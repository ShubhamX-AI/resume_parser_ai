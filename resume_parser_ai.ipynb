{
  "nbformat": 4,
  "nbformat_minor": 0,
  "metadata": {
    "colab": {
      "provenance": []
    },
    "kernelspec": {
      "name": "python3",
      "display_name": "Python 3"
    },
    "language_info": {
      "name": "python"
    }
  },
  "cells": [
    {
      "cell_type": "code",
      "execution_count": null,
      "metadata": {
        "id": "7oEaVpPM0GVh"
      },
      "outputs": [],
      "source": [
        "import os\n",
        "import streamlit as st\n",
        "import pickle\n",
        "import time\n",
        "from PyPDF2 import PdfReader\n",
        "import google.generativeai as genai # For Using Google Gemini pro model\n",
        "from langchain.document_loaders import UnstructuredPDFLoader #Load the PDF from langchain\n",
        "from langchain.chains import RetrievalQAWithSourcesChain\n",
        "from langchain.text_splitter import RecursiveCharacterTextSplitter\n",
        "from langchain.embeddings import OpenAIEmbeddings\n",
        "from langchain.vectorstores import FAISS\n",
        "from dotenv import load_dotenv\n",
        "from google.colab import files #Just the upload files in google colab\n",
        "from langchain.document_loaders import PyPDFLoader #Load the PDF from langchain\n",
        "from langchain_google_genai import GoogleGenerativeAIEmbeddings\n",
        "from langchain_google_genai import ChatGoogleGenerativeAI"
      ]
    },
    {
      "cell_type": "code",
      "source": [
        "genai.configure(api_key= \"....\")"
      ],
      "metadata": {
        "id": "H0FusdHj0eZB"
      },
      "execution_count": null,
      "outputs": []
    },
    {
      "cell_type": "code",
      "source": [
        "# Load the PDF using Langchain's PyPDFLoader\n",
        "loader = PyPDFLoader(\"./pdf_path\")\n",
        "documents = loader.load() #Thid documents will be given to the recursive Document splitter"
      ],
      "metadata": {
        "id": "uPhk72dB0jdg"
      },
      "execution_count": null,
      "outputs": []
    },
    {
      "cell_type": "code",
      "source": [
        "splitter = RecursiveCharacterTextSplitter(\n",
        "    separators=[\"\\n\\n\", \"\\n\", \",\", \"}\", \"{\", \":\", \" \"],\n",
        "    chunk_size=1500,\n",
        "    chunk_overlap=200,\n",
        "    length_function=len,\n",
        ")\n",
        "texts = splitter.split_documents(documents)"
      ],
      "metadata": {
        "id": "00g4hxiB0xRV"
      },
      "execution_count": null,
      "outputs": []
    },
    {
      "cell_type": "code",
      "source": [
        "embeddings_google = GoogleGenerativeAIEmbeddings(model=\"models/embedding-001\")\n",
        "vectorstoregoogleai = FAISS.from_documents(texts, embeddings_google) #Performing openai embeding. We can also go google embedings\n",
        "vectorstoregoogleai.save_local(\"faiss_index_googleai\")"
      ],
      "metadata": {
        "id": "vvuHp1S505qe"
      },
      "execution_count": null,
      "outputs": []
    },
    {
      "cell_type": "code",
      "source": [
        "question = '''\n",
        "Any infirmation you wanna exreact from the document?\n",
        "'''\n",
        "\n",
        "vectorstoregoogleai = FAISS.load_local(\"faiss_index_openai\", embeddings_google, allow_dangerous_deserialization=True)\n",
        "answerfromvectordb = vectorstoregoogleai.similarity_search(question) #Storing the similar kind of vectors according to the question from the main vector database"
      ],
      "metadata": {
        "id": "b1-DCxNx1IKa"
      },
      "execution_count": null,
      "outputs": []
    },
    {
      "cell_type": "code",
      "source": [
        "llm = ChatGoogleGenerativeAI(model = \"gemini-pro\")"
      ],
      "metadata": {
        "id": "MnBv9fza1NK_"
      },
      "execution_count": null,
      "outputs": []
    },
    {
      "cell_type": "code",
      "source": [
        "chain = RetrievalQAWithSourcesChain.from_chain_type(llm=llm, retriever=vectorstoregoogleai.as_retriever()) #Chreating a chanin of vector data where we can ask question"
      ],
      "metadata": {
        "id": "JaPT0fia1YgK"
      },
      "execution_count": null,
      "outputs": []
    },
    {
      "cell_type": "code",
      "source": [
        "response = chain({\"question\": question}, answerfromvectordb) #Retriving anser from the vector database"
      ],
      "metadata": {
        "id": "g5CS6pya1acZ"
      },
      "execution_count": null,
      "outputs": []
    },
    {
      "cell_type": "code",
      "source": [
        "response[\"answer\"]"
      ],
      "metadata": {
        "id": "qd9EF2Ra1cPu"
      },
      "execution_count": null,
      "outputs": []
    }
  ]
}